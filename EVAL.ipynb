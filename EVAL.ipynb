{
  "cells": [
    {
      "cell_type": "markdown",
      "metadata": {
        "id": "jTmnAISwqLDl"
      },
      "source": [
        "### DEPENDENCIES"
      ]
    },
    {
      "cell_type": "code",
      "execution_count": 1,
      "metadata": {
        "id": "dVO8fKb8hqnB"
      },
      "outputs": [],
      "source": [
        "import torch\n",
        "import pandas as pd\n",
        "import os\n",
        "\n",
        "from sklearn.metrics import accuracy_score, precision_score, recall_score, f1_score, confusion_matrix, classification_report            \n",
        "from utils import resample_audio"
      ]
    },
    {
      "cell_type": "markdown",
      "metadata": {
        "id": "qSgJCSE0qEsY"
      },
      "source": [
        "# RUN"
      ]
    },
    {
      "cell_type": "markdown",
      "metadata": {
        "id": "G6SJU82ZpcD0"
      },
      "source": [
        "### Load Tokenizers"
      ]
    },
    {
      "cell_type": "code",
      "execution_count": 2,
      "metadata": {
        "colab": {
          "base_uri": "https://localhost:8080/",
          "height": 415
        },
        "id": "vzDF-7pahHYR",
        "outputId": "f7617abc-b489-4590-d43e-3e9a39e17c3b"
      },
      "outputs": [],
      "source": [
        "# from scripts.Tokenizers import TokenizersConfig, Tokenizers\n",
        "\n",
        "# def infer_token(audio_path, checkpoint_path):\n",
        "#     # load the tokenizer checkpoints\n",
        "#     checkpoint = torch.load(checkpoint_path)\n",
        "\n",
        "#     cfg = TokenizersConfig(checkpoint['cfg'])\n",
        "#     BEATs_tokenizer = Tokenizers(cfg)\n",
        "#     BEATs_tokenizer.load_state_dict(checkpoint['model'])\n",
        "#     BEATs_tokenizer.eval()\n",
        "\n",
        "#     audio_input_16khz = resample_audio(audio_path)\n",
        "#     labels = BEATs_tokenizer.extract_labels(audio_input_16khz, padding_mask=None)\n",
        "#     return labels\n",
        "\n",
        "# labels = infer_token('audios/ex_baby.wav', 'checkpoints/Tokenizer_iter3_plus_AS2M.pt')"
      ]
    },
    {
      "cell_type": "markdown",
      "metadata": {
        "id": "qFbEF98kpzT3"
      },
      "source": [
        "### Load Pre-trained"
      ]
    },
    {
      "cell_type": "code",
      "execution_count": 3,
      "metadata": {
        "id": "CnWkqT4_puJF"
      },
      "outputs": [],
      "source": [
        "# from scripts.BEATs import BEATs, BEATsConfig\n",
        "\n",
        "# def infer_pretrained(audio_path, checkpoint_path):\n",
        "#     # load the pre-trained checkpoints\n",
        "#     checkpoint = torch.load(checkpoint_path)\n",
        "\n",
        "#     cfg = BEATsConfig(checkpoint['cfg'])\n",
        "#     BEATs_model = BEATs(cfg)\n",
        "#     BEATs_model.load_state_dict(checkpoint['model'])\n",
        "#     BEATs_model.eval()\n",
        "\n",
        "#     audio_input_16khz = resample_audio(audio_path)\n",
        "#     representation = BEATs_model.extract_features(audio_input_16khz, padding_mask=None)[0]\n",
        "#     return representation\n",
        "    \n",
        "# representation = infer_pretrained('audios/ex_baby.wav', 'checkpoints/BEATs_iter3_plus_AS2M.pt')"
      ]
    },
    {
      "cell_type": "markdown",
      "metadata": {
        "id": "IGfc43zWpg9R"
      },
      "source": [
        "### Load Fine-tuned Models"
      ]
    },
    {
      "cell_type": "code",
      "execution_count": 4,
      "metadata": {
        "colab": {
          "base_uri": "https://localhost:8080/",
          "height": 373
        },
        "id": "uXPYzItIhnvY",
        "outputId": "5756ce51-00c2-4768-c761-f12f50949b42"
      },
      "outputs": [],
      "source": [
        "from scripts.BEATs import BEATs, BEATsConfig\n",
        "\n",
        "def infer_finetuned(audio_path, checkpoint_path):\n",
        "    checkpoint = torch.load(checkpoint_path)\n",
        "    cfg = BEATsConfig(checkpoint['cfg'])\n",
        "    BEATs_model = BEATs(cfg)\n",
        "    BEATs_model.load_state_dict(checkpoint['model'])\n",
        "    BEATs_model.eval()\n",
        "\n",
        "    audio_input_16khz = resample_audio(audio_path)\n",
        "    probs = BEATs_model.extract_features(audio_input_16khz, padding_mask=None)[0]\n",
        "    return probs, checkpoint"
      ]
    },
    {
      "cell_type": "code",
      "execution_count": 5,
      "metadata": {},
      "outputs": [],
      "source": [
        "def topk_labels_prob(probs, checkpoint):\n",
        "    classes = pd.read_csv('labels/class_labels_indices.csv', index_col='index')\n",
        "\n",
        "    results = []\n",
        "    for (top_label_prob, top_label_idx) in zip(*probs.topk(k=1)):\n",
        "        top_label = [checkpoint['label_dict'][label_idx.item()] for label_idx in top_label_idx]\n",
        "        # Get classes from AudioSet class labels indices\n",
        "        tags = []\n",
        "        for c in top_label:\n",
        "            tag = classes[classes['mid'] == c]['display_name'].values[0]\n",
        "            tags.append(tag)\n",
        "        results.append([tags[0], top_label_prob.tolist()[0]])\n",
        "    return results"
      ]
    },
    {
      "cell_type": "code",
      "execution_count": 6,
      "metadata": {},
      "outputs": [],
      "source": [
        "def infer(audio_path, checkpoint_path):\n",
        "    probs, checkpoint = infer_finetuned(audio_path, checkpoint_path)\n",
        "    results = topk_labels_prob(probs, checkpoint)\n",
        "    return results"
      ]
    },
    {
      "cell_type": "code",
      "execution_count": 7,
      "metadata": {},
      "outputs": [],
      "source": [
        "def batch_infer(folder:str, checkpoint_path:str, output = {}):\n",
        "    for name in os.listdir(folder):\n",
        "        path = os.path.join(folder, name)\n",
        "        if os.path.isfile(path) and path.endswith(\".wav\"):\n",
        "            filename = os.path.basename(path)\n",
        "            results = infer(path, checkpoint_path)\n",
        "            output[filename] = results[0]\n",
        "        elif os.path.isdir(path):\n",
        "            batch_infer(path, checkpoint_path, output)\n",
        "    return output"
      ]
    },
    {
      "cell_type": "markdown",
      "metadata": {},
      "source": [
        "### INFERENCES - WARNING: the following command takes a while (11 min aprox.)"
      ]
    },
    {
      "cell_type": "markdown",
      "metadata": {},
      "source": [
        "You need to have all the audio files ready in the 'files' folder."
      ]
    },
    {
      "cell_type": "code",
      "execution_count": 8,
      "metadata": {},
      "outputs": [
        {
          "data": {
            "text/html": [
              "<div>\n",
              "<style scoped>\n",
              "    .dataframe tbody tr th:only-of-type {\n",
              "        vertical-align: middle;\n",
              "    }\n",
              "\n",
              "    .dataframe tbody tr th {\n",
              "        vertical-align: top;\n",
              "    }\n",
              "\n",
              "    .dataframe thead th {\n",
              "        text-align: right;\n",
              "    }\n",
              "</style>\n",
              "<table border=\"1\" class=\"dataframe\">\n",
              "  <thead>\n",
              "    <tr style=\"text-align: right;\">\n",
              "      <th></th>\n",
              "      <th>audio_id</th>\n",
              "      <th>BEATs_Labels</th>\n",
              "      <th>BEATs_Probs</th>\n",
              "    </tr>\n",
              "  </thead>\n",
              "  <tbody>\n",
              "    <tr>\n",
              "      <th>0</th>\n",
              "      <td>0adb647e97de4fc8881e4c5359d3fb12.wav</td>\n",
              "      <td>Silence</td>\n",
              "      <td>0.151737</td>\n",
              "    </tr>\n",
              "    <tr>\n",
              "      <th>1</th>\n",
              "      <td>first_5_seconds-0adb647e97de4fc8881e4c5359d3fb...</td>\n",
              "      <td>Music</td>\n",
              "      <td>0.093592</td>\n",
              "    </tr>\n",
              "    <tr>\n",
              "      <th>2</th>\n",
              "      <td>next_5_seconds-0adb647e97de4fc8881e4c5359d3fb1...</td>\n",
              "      <td>Music</td>\n",
              "      <td>0.154701</td>\n",
              "    </tr>\n",
              "    <tr>\n",
              "      <th>3</th>\n",
              "      <td>46a32acc19f84410baa8c07ddaa6ac5a.wav</td>\n",
              "      <td>Dog</td>\n",
              "      <td>0.644100</td>\n",
              "    </tr>\n",
              "    <tr>\n",
              "      <th>4</th>\n",
              "      <td>first_5_seconds-46a32acc19f84410baa8c07ddaa6ac...</td>\n",
              "      <td>Animal</td>\n",
              "      <td>0.639572</td>\n",
              "    </tr>\n",
              "  </tbody>\n",
              "</table>\n",
              "</div>"
            ],
            "text/plain": [
              "                                            audio_id BEATs_Labels  BEATs_Probs\n",
              "0               0adb647e97de4fc8881e4c5359d3fb12.wav      Silence     0.151737\n",
              "1  first_5_seconds-0adb647e97de4fc8881e4c5359d3fb...        Music     0.093592\n",
              "2  next_5_seconds-0adb647e97de4fc8881e4c5359d3fb1...        Music     0.154701\n",
              "3               46a32acc19f84410baa8c07ddaa6ac5a.wav          Dog     0.644100\n",
              "4  first_5_seconds-46a32acc19f84410baa8c07ddaa6ac...       Animal     0.639572"
            ]
          },
          "execution_count": 8,
          "metadata": {},
          "output_type": "execute_result"
        }
      ],
      "source": [
        "beats_results = batch_infer('files/2023-07-18', 'checkpoints/BEATs_iter3_plus_AS2M_finetuned_on_AS2M_cpt2.pt')\n",
        "\n",
        "arranged_dict = [{**{'audio_id': key}, **{f'col_{i+1}': value[i] for i in range(2)}} for key, value in beats_results.items()]\n",
        "\n",
        "# Convert the list of dictionaries into a DataFrame\n",
        "df_beats_results_ASlabels = pd.DataFrame(arranged_dict)\n",
        "cols = {'col_1': 'BEATs_Labels','col_2': 'BEATs_Probs'}\n",
        "df_beats_results_ASlabels.rename(columns=cols, inplace=True)\n",
        "\n",
        "df_beats_results_ASlabels.to_csv('output/df_beats_results_ASlabels.csv')\n",
        "df_beats_results_ASlabels.head()"
      ]
    },
    {
      "cell_type": "code",
      "execution_count": 9,
      "metadata": {},
      "outputs": [
        {
          "data": {
            "text/html": [
              "<div>\n",
              "<style scoped>\n",
              "    .dataframe tbody tr th:only-of-type {\n",
              "        vertical-align: middle;\n",
              "    }\n",
              "\n",
              "    .dataframe tbody tr th {\n",
              "        vertical-align: top;\n",
              "    }\n",
              "\n",
              "    .dataframe thead th {\n",
              "        text-align: right;\n",
              "    }\n",
              "</style>\n",
              "<table border=\"1\" class=\"dataframe\">\n",
              "  <thead>\n",
              "    <tr style=\"text-align: right;\">\n",
              "      <th></th>\n",
              "      <th>Unnamed: 0</th>\n",
              "      <th>audio_id</th>\n",
              "      <th>BEATs_Labels</th>\n",
              "      <th>BEATs_Probs</th>\n",
              "    </tr>\n",
              "  </thead>\n",
              "  <tbody>\n",
              "    <tr>\n",
              "      <th>0</th>\n",
              "      <td>0</td>\n",
              "      <td>0adb647e97de4fc8881e4c5359d3fb12.wav</td>\n",
              "      <td>0</td>\n",
              "      <td>0.151737</td>\n",
              "    </tr>\n",
              "    <tr>\n",
              "      <th>1</th>\n",
              "      <td>1</td>\n",
              "      <td>first_5_seconds-0adb647e97de4fc8881e4c5359d3fb...</td>\n",
              "      <td>0</td>\n",
              "      <td>0.093592</td>\n",
              "    </tr>\n",
              "    <tr>\n",
              "      <th>2</th>\n",
              "      <td>2</td>\n",
              "      <td>next_5_seconds-0adb647e97de4fc8881e4c5359d3fb1...</td>\n",
              "      <td>0</td>\n",
              "      <td>0.154701</td>\n",
              "    </tr>\n",
              "    <tr>\n",
              "      <th>3</th>\n",
              "      <td>3</td>\n",
              "      <td>46a32acc19f84410baa8c07ddaa6ac5a.wav</td>\n",
              "      <td>3</td>\n",
              "      <td>0.644100</td>\n",
              "    </tr>\n",
              "    <tr>\n",
              "      <th>4</th>\n",
              "      <td>4</td>\n",
              "      <td>first_5_seconds-46a32acc19f84410baa8c07ddaa6ac...</td>\n",
              "      <td>0</td>\n",
              "      <td>0.639572</td>\n",
              "    </tr>\n",
              "  </tbody>\n",
              "</table>\n",
              "</div>"
            ],
            "text/plain": [
              "   Unnamed: 0                                           audio_id  \\\n",
              "0           0               0adb647e97de4fc8881e4c5359d3fb12.wav   \n",
              "1           1  first_5_seconds-0adb647e97de4fc8881e4c5359d3fb...   \n",
              "2           2  next_5_seconds-0adb647e97de4fc8881e4c5359d3fb1...   \n",
              "3           3               46a32acc19f84410baa8c07ddaa6ac5a.wav   \n",
              "4           4  first_5_seconds-46a32acc19f84410baa8c07ddaa6ac...   \n",
              "\n",
              "   BEATs_Labels  BEATs_Probs  \n",
              "0             0     0.151737  \n",
              "1             0     0.093592  \n",
              "2             0     0.154701  \n",
              "3             3     0.644100  \n",
              "4             0     0.639572  "
            ]
          },
          "execution_count": 9,
          "metadata": {},
          "output_type": "execute_result"
        }
      ],
      "source": [
        "tags = ['baby', 'cat', 'dog']\n",
        "\n",
        "\n",
        "def list2dict(tags):\n",
        "    if not tags:\n",
        "        raise ValueError(\"Class list is empty.\")\n",
        "    classes_dict = {num + 1: tag.lower() for num, tag in enumerate(tags)}\n",
        "    return classes_dict\n",
        "\n",
        "\n",
        "def class_filter(input):\n",
        "    input = input.lower()\n",
        "    tags_dict = list2dict(tags)\n",
        "    for i, tag in tags_dict.items():\n",
        "        if (tag == input) or (tag in input):\n",
        "            return i\n",
        "    return 0\n",
        "\n",
        "\n",
        "df_beats_results_ASlabels = pd.read_csv('output/df_beats_results_ASlabels.csv')\n",
        "df_beats_results_numbered = df_beats_results_ASlabels.copy()\n",
        "\n",
        "df_beats_results_numbered['BEATs_Labels'] = df_beats_results_ASlabels['BEATs_Labels'].apply(class_filter)\n",
        "\n",
        "df_beats_results_numbered.to_csv('output/df_beats_results_numbered.csv')\n",
        "df_beats_results_numbered.head()"
      ]
    },
    {
      "cell_type": "code",
      "execution_count": 10,
      "metadata": {},
      "outputs": [
        {
          "data": {
            "text/html": [
              "<div>\n",
              "<style scoped>\n",
              "    .dataframe tbody tr th:only-of-type {\n",
              "        vertical-align: middle;\n",
              "    }\n",
              "\n",
              "    .dataframe tbody tr th {\n",
              "        vertical-align: top;\n",
              "    }\n",
              "\n",
              "    .dataframe thead th {\n",
              "        text-align: right;\n",
              "    }\n",
              "</style>\n",
              "<table border=\"1\" class=\"dataframe\">\n",
              "  <thead>\n",
              "    <tr style=\"text-align: right;\">\n",
              "      <th></th>\n",
              "      <th>Unnamed: 0</th>\n",
              "      <th>audio_id</th>\n",
              "      <th>BEATs_Labels</th>\n",
              "      <th>BEATs_Probs</th>\n",
              "    </tr>\n",
              "  </thead>\n",
              "  <tbody>\n",
              "    <tr>\n",
              "      <th>0</th>\n",
              "      <td>0</td>\n",
              "      <td>0adb647e97de4fc8881e4c5359d3fb12.wav</td>\n",
              "      <td>0</td>\n",
              "      <td>0.151737</td>\n",
              "    </tr>\n",
              "    <tr>\n",
              "      <th>1</th>\n",
              "      <td>1</td>\n",
              "      <td>first_5_seconds-0adb647e97de4fc8881e4c5359d3fb...</td>\n",
              "      <td>0</td>\n",
              "      <td>0.093592</td>\n",
              "    </tr>\n",
              "    <tr>\n",
              "      <th>2</th>\n",
              "      <td>2</td>\n",
              "      <td>next_5_seconds-0adb647e97de4fc8881e4c5359d3fb1...</td>\n",
              "      <td>0</td>\n",
              "      <td>0.154701</td>\n",
              "    </tr>\n",
              "    <tr>\n",
              "      <th>3</th>\n",
              "      <td>3</td>\n",
              "      <td>46a32acc19f84410baa8c07ddaa6ac5a.wav</td>\n",
              "      <td>3</td>\n",
              "      <td>0.644100</td>\n",
              "    </tr>\n",
              "    <tr>\n",
              "      <th>4</th>\n",
              "      <td>4</td>\n",
              "      <td>first_5_seconds-46a32acc19f84410baa8c07ddaa6ac...</td>\n",
              "      <td>0</td>\n",
              "      <td>0.639572</td>\n",
              "    </tr>\n",
              "  </tbody>\n",
              "</table>\n",
              "</div>"
            ],
            "text/plain": [
              "   Unnamed: 0                                           audio_id  \\\n",
              "0           0               0adb647e97de4fc8881e4c5359d3fb12.wav   \n",
              "1           1  first_5_seconds-0adb647e97de4fc8881e4c5359d3fb...   \n",
              "2           2  next_5_seconds-0adb647e97de4fc8881e4c5359d3fb1...   \n",
              "3           3               46a32acc19f84410baa8c07ddaa6ac5a.wav   \n",
              "4           4  first_5_seconds-46a32acc19f84410baa8c07ddaa6ac...   \n",
              "\n",
              "   BEATs_Labels  BEATs_Probs  \n",
              "0             0     0.151737  \n",
              "1             0     0.093592  \n",
              "2             0     0.154701  \n",
              "3             3     0.644100  \n",
              "4             0     0.639572  "
            ]
          },
          "execution_count": 10,
          "metadata": {},
          "output_type": "execute_result"
        }
      ],
      "source": [
        "df_beats_results_numbered = pd.read_csv('output/df_beats_results_numbered.csv', index_col=0)\n",
        "df_beats_results_numbered.head()"
      ]
    },
    {
      "cell_type": "markdown",
      "metadata": {},
      "source": [
        "### Metrics"
      ]
    },
    {
      "cell_type": "code",
      "execution_count": 15,
      "metadata": {},
      "outputs": [],
      "source": [
        "def metrics(y_true, y_pred):\n",
        "    # Accuracy\n",
        "    accuracy = accuracy_score(y_true, y_pred)\n",
        "    print(\"Precisión (Accuracy):\", accuracy)\n",
        "\n",
        "    # Precision\n",
        "    precision = precision_score(y_true, y_pred, average='micro')\n",
        "    print(\"Precisión (Precision):\", precision)\n",
        "\n",
        "    # Recall\n",
        "    recall = recall_score(y_true, y_pred, average='micro')\n",
        "    print(\"Recall:\", recall)\n",
        "\n",
        "    # F1 Score\n",
        "    f1 = f1_score(y_true, y_pred, average='micro')\n",
        "    print(\"Puntuación F1:\", f1)\n",
        "\n",
        "    # Confusion Matrix\n",
        "    confusion = confusion_matrix(y_true, y_pred)\n",
        "    print(\"Matriz de Confusión:\")\n",
        "    print(confusion)\n",
        "\n",
        "    # Detailed Classification Report\n",
        "    report = classification_report(y_true, y_pred)\n",
        "    print(\"Informe de clasificación:\")\n",
        "    print(report)"
      ]
    },
    {
      "cell_type": "code",
      "execution_count": 16,
      "metadata": {},
      "outputs": [
        {
          "data": {
            "text/plain": [
              "(183, 4)"
            ]
          },
          "execution_count": 16,
          "metadata": {},
          "output_type": "execute_result"
        }
      ],
      "source": [
        "labeled_dataset = pd.read_csv('labels/labeled_dataset.csv', index_col=0)\n",
        "labeled_dataset.head()\n",
        "labeled_dataset.shape"
      ]
    },
    {
      "cell_type": "code",
      "execution_count": 17,
      "metadata": {},
      "outputs": [
        {
          "data": {
            "text/html": [
              "<div>\n",
              "<style scoped>\n",
              "    .dataframe tbody tr th:only-of-type {\n",
              "        vertical-align: middle;\n",
              "    }\n",
              "\n",
              "    .dataframe tbody tr th {\n",
              "        vertical-align: top;\n",
              "    }\n",
              "\n",
              "    .dataframe thead th {\n",
              "        text-align: right;\n",
              "    }\n",
              "</style>\n",
              "<table border=\"1\" class=\"dataframe\">\n",
              "  <thead>\n",
              "    <tr style=\"text-align: right;\">\n",
              "      <th></th>\n",
              "      <th>audio_id</th>\n",
              "      <th>Label</th>\n",
              "      <th>HTS_Labels</th>\n",
              "      <th>ResNet_Labels</th>\n",
              "      <th>BEATs_Labels</th>\n",
              "    </tr>\n",
              "  </thead>\n",
              "  <tbody>\n",
              "    <tr>\n",
              "      <th>0</th>\n",
              "      <td>0adb647e97de4fc8881e4c5359d3fb12.wav</td>\n",
              "      <td>0</td>\n",
              "      <td>NaN</td>\n",
              "      <td>0</td>\n",
              "      <td>0</td>\n",
              "    </tr>\n",
              "    <tr>\n",
              "      <th>1</th>\n",
              "      <td>first_5_seconds-0adb647e97de4fc8881e4c5359d3fb...</td>\n",
              "      <td>0</td>\n",
              "      <td>0.0</td>\n",
              "      <td>0</td>\n",
              "      <td>0</td>\n",
              "    </tr>\n",
              "    <tr>\n",
              "      <th>2</th>\n",
              "      <td>next_5_seconds-0adb647e97de4fc8881e4c5359d3fb1...</td>\n",
              "      <td>0</td>\n",
              "      <td>0.0</td>\n",
              "      <td>0</td>\n",
              "      <td>0</td>\n",
              "    </tr>\n",
              "    <tr>\n",
              "      <th>3</th>\n",
              "      <td>46a32acc19f84410baa8c07ddaa6ac5a.wav</td>\n",
              "      <td>3</td>\n",
              "      <td>NaN</td>\n",
              "      <td>3</td>\n",
              "      <td>3</td>\n",
              "    </tr>\n",
              "    <tr>\n",
              "      <th>4</th>\n",
              "      <td>first_5_seconds-46a32acc19f84410baa8c07ddaa6ac...</td>\n",
              "      <td>3</td>\n",
              "      <td>3.0</td>\n",
              "      <td>0</td>\n",
              "      <td>0</td>\n",
              "    </tr>\n",
              "  </tbody>\n",
              "</table>\n",
              "</div>"
            ],
            "text/plain": [
              "                                            audio_id  Label  HTS_Labels  \\\n",
              "0               0adb647e97de4fc8881e4c5359d3fb12.wav      0         NaN   \n",
              "1  first_5_seconds-0adb647e97de4fc8881e4c5359d3fb...      0         0.0   \n",
              "2  next_5_seconds-0adb647e97de4fc8881e4c5359d3fb1...      0         0.0   \n",
              "3               46a32acc19f84410baa8c07ddaa6ac5a.wav      3         NaN   \n",
              "4  first_5_seconds-46a32acc19f84410baa8c07ddaa6ac...      3         3.0   \n",
              "\n",
              "   ResNet_Labels  BEATs_Labels  \n",
              "0              0             0  \n",
              "1              0             0  \n",
              "2              0             0  \n",
              "3              3             3  \n",
              "4              0             0  "
            ]
          },
          "execution_count": 17,
          "metadata": {},
          "output_type": "execute_result"
        }
      ],
      "source": [
        "merged_inferences = pd.merge(labeled_dataset, df_beats_results_numbered[['audio_id', 'BEATs_Labels']], on='audio_id')\n",
        "merged_inferences.to_csv('merged_inferences.csv')\n",
        "merged_inferences.head()"
      ]
    },
    {
      "cell_type": "code",
      "execution_count": 18,
      "metadata": {},
      "outputs": [
        {
          "name": "stdout",
          "output_type": "stream",
          "text": [
            "Precisión (Accuracy): 0.2896174863387978\n",
            "Precisión (Precision): 0.2896174863387978\n",
            "Recall: 0.2896174863387978\n",
            "Puntuación F1: 0.2896174863387978\n",
            "Matriz de Confusión:\n",
            "[[24  0  0  0]\n",
            " [ 5 17  1  0]\n",
            " [28  0  3  0]\n",
            " [96  0  0  9]]\n",
            "Informe de clasificación:\n",
            "              precision    recall  f1-score   support\n",
            "\n",
            "           0       0.16      1.00      0.27        24\n",
            "           1       1.00      0.74      0.85        23\n",
            "           2       0.75      0.10      0.17        31\n",
            "           3       1.00      0.09      0.16       105\n",
            "\n",
            "    accuracy                           0.29       183\n",
            "   macro avg       0.73      0.48      0.36       183\n",
            "weighted avg       0.85      0.29      0.26       183\n",
            "\n"
          ]
        }
      ],
      "source": [
        "y_true = merged_inferences['Label']\n",
        "y_pred = merged_inferences['BEATs_Labels']\n",
        "\n",
        "metrics(y_true, y_pred)"
      ]
    }
  ],
  "metadata": {
    "colab": {
      "collapsed_sections": [
        "jTmnAISwqLDl"
      ],
      "provenance": [],
      "toc_visible": true
    },
    "kernelspec": {
      "display_name": "base",
      "language": "python",
      "name": "python3"
    },
    "language_info": {
      "codemirror_mode": {
        "name": "ipython",
        "version": 3
      },
      "file_extension": ".py",
      "mimetype": "text/x-python",
      "name": "python",
      "nbconvert_exporter": "python",
      "pygments_lexer": "ipython3",
      "version": "3.11.4"
    }
  },
  "nbformat": 4,
  "nbformat_minor": 0
}
